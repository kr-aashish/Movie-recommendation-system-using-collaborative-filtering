{
 "cells": [
  {
   "cell_type": "markdown",
   "metadata": {
    "colab_type": "text",
    "id": "u_0oQaUOA9CI"
   },
   "source": [
    "# Task 1: Introduction\n",
    "\n",
    "![Movies Collage](https://i.imgur.com/T7V0VZ6.png)\n",
    "\n",
    "For this project we are going to create a recommendation engine for movies for users based on there past behaviour.\n",
    "\n",
    "---\n",
    "\n",
    "We will focus on the **collaborative filtering** approach, that is: \n",
    "\n",
    "The user is recommended items that people with similar tastes and preferences liked in the past. In another word, this method predicts unknown ratings by using the similarities between users.\n",
    "\n",
    "---\n",
    "\n",
    "Note: This notebook uses `python 3` and these packages: `pandas`, `numpy`, `matplotlib` and `scikit-surprise`\n",
    "\n",
    "We can install them using:\n",
    "```Shell\n",
    "pip3 install pandas matplotlib numpy scikit-surprise\n",
    "```"
   ]
  },
  {
   "cell_type": "markdown",
   "metadata": {
    "colab_type": "text",
    "id": "eMZcgcQsm-9y"
   },
   "source": [
    "## 1.1: Installing Libraries"
   ]
  },
  {
   "cell_type": "code",
   "execution_count": 14,
   "metadata": {
    "colab": {},
    "colab_type": "code",
    "id": "HNmYMKhCnITm"
   },
   "outputs": [
    {
     "name": "stdout",
     "output_type": "stream",
     "text": [
      ">> Installing Libraries\n",
      "Defaulting to user installation because normal site-packages is not writeable\n",
      "Requirement already satisfied: pandas in /home/rhyme/.local/lib/python3.6/site-packages (1.1.0)\n",
      "Requirement already satisfied: matplotlib in /home/rhyme/.local/lib/python3.6/site-packages (3.3.0)\n",
      "Requirement already satisfied: numpy in /home/rhyme/.local/lib/python3.6/site-packages (1.19.1)\n",
      "Requirement already satisfied: scikit-surprise in /home/rhyme/.local/lib/python3.6/site-packages (1.1.1)\n",
      "Requirement already satisfied: pytz>=2017.2 in /home/rhyme/.local/lib/python3.6/site-packages (from pandas) (2020.1)\n",
      "Requirement already satisfied: python-dateutil>=2.7.3 in /home/rhyme/.local/lib/python3.6/site-packages (from pandas) (2.8.1)\n",
      "Requirement already satisfied: pillow>=6.2.0 in /home/rhyme/.local/lib/python3.6/site-packages (from matplotlib) (7.2.0)\n",
      "Requirement already satisfied: cycler>=0.10 in /home/rhyme/.local/lib/python3.6/site-packages (from matplotlib) (0.10.0)\n",
      "Requirement already satisfied: kiwisolver>=1.0.1 in /home/rhyme/.local/lib/python3.6/site-packages (from matplotlib) (1.2.0)\n",
      "Requirement already satisfied: pyparsing!=2.0.4,!=2.1.2,!=2.1.6,>=2.0.3 in /home/rhyme/.local/lib/python3.6/site-packages (from matplotlib) (2.4.7)\n",
      "Requirement already satisfied: six>=1.10.0 in /usr/lib/python3/dist-packages (from scikit-surprise) (1.11.0)\n",
      "Requirement already satisfied: scipy>=1.0.0 in /home/rhyme/.local/lib/python3.6/site-packages (from scikit-surprise) (1.5.2)\n",
      "Requirement already satisfied: joblib>=0.11 in /home/rhyme/.local/lib/python3.6/site-packages (from scikit-surprise) (0.16.0)\n",
      ">> Libraries Installed\n"
     ]
    }
   ],
   "source": [
    "print('>> Installing Libraries')\n",
    "\n",
    "!pip3 install pandas matplotlib numpy scikit-surprise #shell command not terminal command -- thats'swhy exclamation mark\n",
    "\n",
    "print('>> Libraries Installed')"
   ]
  },
  {
   "cell_type": "markdown",
   "metadata": {
    "colab_type": "text",
    "id": "FYwbN6KqJjPo"
   },
   "source": [
    "## 1.2: Importing Libraries\n",
    "\n",
    "First of all, we will need to import some libraries. This includes surprise which we will use to create the recommendation system."
   ]
  },
  {
   "cell_type": "code",
   "execution_count": 15,
   "metadata": {
    "colab": {},
    "colab_type": "code",
    "id": "5OGYBAjxAzLC"
   },
   "outputs": [
    {
     "name": "stdout",
     "output_type": "stream",
     "text": [
      ">> Importing Libraries\n",
      ">> Libraries imported.\n"
     ]
    }
   ],
   "source": [
    "print('>> Importing Libraries')\n",
    "\n",
    "import pandas as pd\n",
    "\n",
    "#surprise library is for recommender systems\n",
    "from surprise import Reader, Dataset, SVD \n",
    "#Reader, Dataset - to surprise set\n",
    "#Singular Value Decomposition(SVD) - for recommender systems model making\n",
    "\n",
    "from surprise.accuracy import rmse, mae #accuracy and all\n",
    "from surprise.model_selection import cross_validate #as we dont have test data - cross validate will help\n",
    "\n",
    "print('>> Libraries imported.')"
   ]
  },
  {
   "cell_type": "markdown",
   "metadata": {
    "colab_type": "text",
    "id": "Zg9d8GR6A_rr"
   },
   "source": [
    "# Task 2: Importing Data\n",
    "\n",
    "We will use open-source dataset from GroupLens Research ([movielens.org](http://movielens.org))"
   ]
  },
  {
   "cell_type": "markdown",
   "metadata": {
    "colab_type": "text",
    "id": "vS0k5tdWKSfZ"
   },
   "source": [
    "## 2.1: Importing the Data\n",
    "\n",
    "The dataset is saved in a `ratings.csv` file. We will use pandas to take a look at some of the rows."
   ]
  },
  {
   "cell_type": "code",
   "execution_count": null,
   "metadata": {},
   "outputs": [],
   "source": [
    "df = pd.read_csv('ratings.csv')\n",
    "df.head()"
   ]
  },
  {
   "cell_type": "markdown",
   "metadata": {
    "colab_type": "text",
    "id": "GvUhDQIgLOEY"
   },
   "source": [
    "## 2.2 Dropping timestamp\n",
    "\n",
    "We won'theade using the timestamp when user gave the particular rating. So we will drop that column."
   ]
  },
  {
   "cell_type": "code",
   "execution_count": 17,
   "metadata": {
    "colab": {},
    "colab_type": "code",
    "id": "TXvWh3duLjiP"
   },
   "outputs": [
    {
     "data": {
      "text/html": [
       "<div>\n",
       "<style scoped>\n",
       "    .dataframe tbody tr th:only-of-type {\n",
       "        vertical-align: middle;\n",
       "    }\n",
       "\n",
       "    .dataframe tbody tr th {\n",
       "        vertical-align: top;\n",
       "    }\n",
       "\n",
       "    .dataframe thead th {\n",
       "        text-align: right;\n",
       "    }\n",
       "</style>\n",
       "<table border=\"1\" class=\"dataframe\">\n",
       "  <thead>\n",
       "    <tr style=\"text-align: right;\">\n",
       "      <th></th>\n",
       "      <th>userId</th>\n",
       "      <th>movieId</th>\n",
       "      <th>rating</th>\n",
       "    </tr>\n",
       "  </thead>\n",
       "  <tbody>\n",
       "    <tr>\n",
       "      <th>0</th>\n",
       "      <td>1</td>\n",
       "      <td>1</td>\n",
       "      <td>4.0</td>\n",
       "    </tr>\n",
       "    <tr>\n",
       "      <th>1</th>\n",
       "      <td>1</td>\n",
       "      <td>3</td>\n",
       "      <td>4.0</td>\n",
       "    </tr>\n",
       "    <tr>\n",
       "      <th>2</th>\n",
       "      <td>1</td>\n",
       "      <td>6</td>\n",
       "      <td>4.0</td>\n",
       "    </tr>\n",
       "    <tr>\n",
       "      <th>3</th>\n",
       "      <td>1</td>\n",
       "      <td>47</td>\n",
       "      <td>5.0</td>\n",
       "    </tr>\n",
       "    <tr>\n",
       "      <th>4</th>\n",
       "      <td>1</td>\n",
       "      <td>50</td>\n",
       "      <td>5.0</td>\n",
       "    </tr>\n",
       "  </tbody>\n",
       "</table>\n",
       "</div>"
      ],
      "text/plain": [
       "   userId  movieId  rating\n",
       "0       1        1     4.0\n",
       "1       1        3     4.0\n",
       "2       1        6     4.0\n",
       "3       1       47     5.0\n",
       "4       1       50     5.0"
      ]
     },
     "execution_count": 17,
     "metadata": {},
     "output_type": "execute_result"
    }
   ],
   "source": [
    "df.drop('timestamp', axis=1, inplace=True)\n",
    "df.head()"
   ]
  },
  {
   "cell_type": "markdown",
   "metadata": {
    "colab_type": "text",
    "id": "OPEBn0gAK-5m"
   },
   "source": [
    "## 2.3 Check for Missing Data\n",
    "\n",
    "It's a good practice to check if the data has any missing values. In real world data, this is quite common and must be taken care of before any data pre-processing or model training."
   ]
  },
  {
   "cell_type": "code",
   "execution_count": 18,
   "metadata": {
    "colab": {},
    "colab_type": "code",
    "id": "BfBqk7KkLFV6"
   },
   "outputs": [
    {
     "data": {
      "text/plain": [
       "userId     0\n",
       "movieId    0\n",
       "rating     0\n",
       "dtype: int64"
      ]
     },
     "execution_count": 18,
     "metadata": {},
     "output_type": "execute_result"
    }
   ],
   "source": [
    "df.isna().sum()"
   ]
  },
  {
   "cell_type": "markdown",
   "metadata": {
    "colab_type": "text",
    "id": "FQYVA-J5MCUG"
   },
   "source": [
    "# Task 3: EDA (Exploratory data analysis)\n",
    "\n",
    "In statistics, exploratory data analysis is an approach to analyzing data sets to summarize their main characteristics."
   ]
  },
  {
   "cell_type": "markdown",
   "metadata": {
    "colab_type": "text",
    "id": "XJ0CD6ZiOpRI"
   },
   "source": [
    "## 3.1 Number of movies/users"
   ]
  },
  {
   "cell_type": "code",
   "execution_count": 19,
   "metadata": {
    "colab": {},
    "colab_type": "code",
    "id": "vnEIeAO6Psj2"
   },
   "outputs": [
    {
     "name": "stdout",
     "output_type": "stream",
     "text": [
      "9724 \n",
      " 610\n"
     ]
    }
   ],
   "source": [
    "n_movies = df['movieId'].nunique()\n",
    "n_users = df['userId'].nunique()\n",
    "print(n_movies,'\\n', n_users)"
   ]
  },
  {
   "cell_type": "markdown",
   "metadata": {
    "colab_type": "text",
    "id": "dclqP0iXOo_F"
   },
   "source": [
    "## 3.2 Sparsity of our data\n",
    "\n",
    "Sparsity (%) = `(No of missing values/ (Total Values))X100`"
   ]
  },
  {
   "cell_type": "code",
   "execution_count": 20,
   "metadata": {
    "colab": {},
    "colab_type": "code",
    "id": "xPYF0zlfREMK"
   },
   "outputs": [
    {
     "name": "stdout",
     "output_type": "stream",
     "text": [
      "98.30003169443864\n"
     ]
    }
   ],
   "source": [
    "available_ratings = df['rating'].count()\n",
    "total_ratings = n_movies*n_users  #Total number of possible ratings\n",
    "missing_Ratings = total_ratings - available_ratings\n",
    "\n",
    "sparsity  = (missing_Ratings/total_ratings)*100\n",
    "print(sparsity)"
   ]
  },
  {
   "cell_type": "markdown",
   "metadata": {
    "colab_type": "text",
    "id": "kcYDLtG5Ok_p"
   },
   "source": [
    "## 3.3 Ratings Distribution"
   ]
  },
  {
   "cell_type": "code",
   "execution_count": 21,
   "metadata": {
    "colab": {},
    "colab_type": "code",
    "id": "ZO7Mv-jdL4_z"
   },
   "outputs": [
    {
     "data": {
      "text/plain": [
       "<AxesSubplot:>"
      ]
     },
     "execution_count": 21,
     "metadata": {},
     "output_type": "execute_result"
    },
    {
     "data": {
      "image/png": "[encoded data removed]",
      "text/plain": [
       "<Figure size 432x288 with 1 Axes>"
      ]
     },
     "metadata": {
      "needs_background": "light"
     },
     "output_type": "display_data"
    }
   ],
   "source": [
    "df['rating'].value_counts().plot(kind='bar') #Value_count - to count freq of diff ratings\n",
    "#directly used the plot function"
   ]
  },
  {
   "cell_type": "markdown",
   "metadata": {
    "colab_type": "text",
    "id": "xdLsIItxSd9K"
   },
   "source": [
    "# Task 4: Dimensionality Reduction\n",
    "\n",
    "To reduce the dimensionality of the dataset, we will filter out rarely rated movies and rarely rating users"
   ]
  },
  {
   "cell_type": "markdown",
   "metadata": {
    "colab_type": "text",
    "id": "i3jYt3m5TNVL"
   },
   "source": [
    "## 4.1 Filter movies with less than 3 ratings"
   ]
  },
  {
   "cell_type": "code",
   "execution_count": 22,
   "metadata": {
    "colab": {},
    "colab_type": "code",
    "id": "msZU9YSxSeUo"
   },
   "outputs": [],
   "source": [
    "filter_movies = df['movieId'].value_counts() > 3 #a list of true and false\n",
    "filter_movies = filter_movies[filter_movies].index.tolist() #finally converting into list\n",
    "# filter_movies"
   ]
  },
  {
   "cell_type": "markdown",
   "metadata": {
    "colab_type": "text",
    "id": "IYaMxlXcTdGS"
   },
   "source": [
    "## 4.2 Filter users with less than 3 movies rated"
   ]
  },
  {
   "cell_type": "code",
   "execution_count": 23,
   "metadata": {
    "colab": {},
    "colab_type": "code",
    "id": "WPeNAggIS-Y_"
   },
   "outputs": [],
   "source": [
    "filter_users = df['userId'].value_counts() > 3\n",
    "filter_users = filter_users[filter_users].index.tolist()"
   ]
  },
  {
   "cell_type": "markdown",
   "metadata": {
    "colab_type": "text",
    "id": "c2LFIAGXT3ro"
   },
   "source": [
    "## 4.3 Remove rarely rated movies and rarely rating users"
   ]
  },
  {
   "cell_type": "code",
   "execution_count": 24,
   "metadata": {
    "colab": {},
    "colab_type": "code",
    "id": "tTUG4ao6S_x7"
   },
   "outputs": [],
   "source": [
    "df = df[(df['movieId'].isin(filter_movies)) & (df['userId'].isin(filter_users))]"
   ]
  },
  {
   "cell_type": "markdown",
   "metadata": {
    "colab_type": "text",
    "id": "TbviZWiPM3jQ"
   },
   "source": [
    "# Task 5: Create Training and Test Sets"
   ]
  },
  {
   "cell_type": "markdown",
   "metadata": {
    "colab_type": "text",
    "id": "TIK2L0VuhbgA"
   },
   "source": [
    "## 5.1 Columns used for training"
   ]
  },
  {
   "cell_type": "code",
   "execution_count": 25,
   "metadata": {
    "colab": {},
    "colab_type": "code",
    "id": "bXF4dmJKhF7q"
   },
   "outputs": [],
   "source": [
    "cols = ['userId', 'movieId', 'rating' ]"
   ]
  },
  {
   "cell_type": "markdown",
   "metadata": {
    "colab_type": "text",
    "id": "J8rylnJmUjYk"
   },
   "source": [
    "## 5.2 Create surprise dataset"
   ]
  },
  {
   "cell_type": "code",
   "execution_count": 32,
   "metadata": {
    "colab": {},
    "colab_type": "code",
    "id": "4UOTMUssM6Tw"
   },
   "outputs": [
    {
     "data": {
      "text/plain": [
       "<surprise.dataset.DatasetAutoFolds at 0x7f8e395defd0>"
      ]
     },
     "execution_count": 32,
     "metadata": {},
     "output_type": "execute_result"
    }
   ],
   "source": [
    "reader = Reader(rating_scale = (0.5,5)) #imported priorly - rating to range from 0.5 to 5\n",
    "#using reader method - to specify range\n",
    "data = Dataset.load_from_df(df[cols], reader)\n",
    "#using Dataset method"
   ]
  },
  {
   "cell_type": "markdown",
   "metadata": {
    "colab_type": "text",
    "id": "8lM--CdvguDz"
   },
   "source": [
    "## 5.3 Create Train-set and Prediction-set"
   ]
  },
  {
   "cell_type": "code",
   "execution_count": 34,
   "metadata": {
    "colab": {},
    "colab_type": "code",
    "id": "heITVvtvU1FD"
   },
   "outputs": [
    {
     "data": {
      "text/plain": [
       "<surprise.trainset.Trainset at 0x7f8e39fbb198>"
      ]
     },
     "execution_count": 34,
     "metadata": {},
     "output_type": "execute_result"
    }
   ],
   "source": [
    "trainset = data.build_full_trainset()\n",
    "\n",
    "antiset = trainset.build_anti_testset() \n",
    "#will contain user and movies who do not have ratings yet and requires a prediction\n",
    "\n",
    "trainset"
   ]
  },
  {
   "cell_type": "markdown",
   "metadata": {
    "colab_type": "text",
    "id": "AYfhHDReuO5h"
   },
   "source": [
    "# Task 6: Creating and training the model"
   ]
  },
  {
   "cell_type": "markdown",
   "metadata": {
    "colab_type": "text",
    "id": "R4e28tFHubv9"
   },
   "source": [
    "## 6.1 Creating the model\n",
    "\n",
    "**SVD (Singular Value Decomposition)**\n",
    "\n",
    "Interaction Matrix = A X B X C"
   ]
  },
  {
   "cell_type": "code",
   "execution_count": 35,
   "metadata": {
    "colab": {},
    "colab_type": "code",
    "id": "Ft4rS3L-hqeS"
   },
   "outputs": [],
   "source": [
    "#svd - matrix decomposition method \n",
    "#to factorise the given matrix and then multiply the factors back\n",
    "#to get the complete interaction matrix - missing values will dissapear\n",
    "algo = SVD(n_epochs=25, verbose=True) #will repeat 25 times to reduce the error"
   ]
  },
  {
   "cell_type": "markdown",
   "metadata": {
    "colab_type": "text",
    "id": "h_16sRpXwahF"
   },
   "source": [
    "## 6.2 Training the model\n",
    "\n",
    "**Mean Absolute Error (MAE)**: MAE measures the average magnitude of the errors in a set of predictions, without considering their direction. \n",
    "\n",
    "**Root mean squared error (RMSE)**:  RMSE is the square root of the average of squared differences between prediction and actual observation."
   ]
  },
  {
   "cell_type": "code",
   "execution_count": 37,
   "metadata": {
    "colab": {},
    "colab_type": "code",
    "id": "nh-E5DS5wYe_"
   },
   "outputs": [
    {
     "name": "stdout",
     "output_type": "stream",
     "text": [
      "Processing epoch 0\n",
      "Processing epoch 1\n",
      "Processing epoch 2\n",
      "Processing epoch 3\n",
      "Processing epoch 4\n",
      "Processing epoch 5\n",
      "Processing epoch 6\n",
      "Processing epoch 7\n",
      "Processing epoch 8\n",
      "Processing epoch 9\n",
      "Processing epoch 10\n",
      "Processing epoch 11\n",
      "Processing epoch 12\n",
      "Processing epoch 13\n",
      "Processing epoch 14\n",
      "Processing epoch 15\n",
      "Processing epoch 16\n",
      "Processing epoch 17\n",
      "Processing epoch 18\n",
      "Processing epoch 19\n",
      "Processing epoch 20\n",
      "Processing epoch 21\n",
      "Processing epoch 22\n",
      "Processing epoch 23\n",
      "Processing epoch 24\n",
      "Processing epoch 0\n",
      "Processing epoch 1\n",
      "Processing epoch 2\n",
      "Processing epoch 3\n",
      "Processing epoch 4\n",
      "Processing epoch 5\n",
      "Processing epoch 6\n",
      "Processing epoch 7\n",
      "Processing epoch 8\n",
      "Processing epoch 9\n",
      "Processing epoch 10\n",
      "Processing epoch 11\n",
      "Processing epoch 12\n",
      "Processing epoch 13\n",
      "Processing epoch 14\n",
      "Processing epoch 15\n",
      "Processing epoch 16\n",
      "Processing epoch 17\n",
      "Processing epoch 18\n",
      "Processing epoch 19\n",
      "Processing epoch 20\n",
      "Processing epoch 21\n",
      "Processing epoch 22\n",
      "Processing epoch 23\n",
      "Processing epoch 24\n",
      "Processing epoch 0\n",
      "Processing epoch 1\n",
      "Processing epoch 2\n",
      "Processing epoch 3\n",
      "Processing epoch 4\n",
      "Processing epoch 5\n",
      "Processing epoch 6\n",
      "Processing epoch 7\n",
      "Processing epoch 8\n",
      "Processing epoch 9\n",
      "Processing epoch 10\n",
      "Processing epoch 11\n",
      "Processing epoch 12\n",
      "Processing epoch 13\n",
      "Processing epoch 14\n",
      "Processing epoch 15\n",
      "Processing epoch 16\n",
      "Processing epoch 17\n",
      "Processing epoch 18\n",
      "Processing epoch 19\n",
      "Processing epoch 20\n",
      "Processing epoch 21\n",
      "Processing epoch 22\n",
      "Processing epoch 23\n",
      "Processing epoch 24\n",
      "Processing epoch 0\n",
      "Processing epoch 1\n",
      "Processing epoch 2\n",
      "Processing epoch 3\n",
      "Processing epoch 4\n",
      "Processing epoch 5\n",
      "Processing epoch 6\n",
      "Processing epoch 7\n",
      "Processing epoch 8\n",
      "Processing epoch 9\n",
      "Processing epoch 10\n",
      "Processing epoch 11\n",
      "Processing epoch 12\n",
      "Processing epoch 13\n",
      "Processing epoch 14\n",
      "Processing epoch 15\n",
      "Processing epoch 16\n",
      "Processing epoch 17\n",
      "Processing epoch 18\n",
      "Processing epoch 19\n",
      "Processing epoch 20\n",
      "Processing epoch 21\n",
      "Processing epoch 22\n",
      "Processing epoch 23\n",
      "Processing epoch 24\n",
      "Processing epoch 0\n",
      "Processing epoch 1\n",
      "Processing epoch 2\n",
      "Processing epoch 3\n",
      "Processing epoch 4\n",
      "Processing epoch 5\n",
      "Processing epoch 6\n",
      "Processing epoch 7\n",
      "Processing epoch 8\n",
      "Processing epoch 9\n",
      "Processing epoch 10\n",
      "Processing epoch 11\n",
      "Processing epoch 12\n",
      "Processing epoch 13\n",
      "Processing epoch 14\n",
      "Processing epoch 15\n",
      "Processing epoch 16\n",
      "Processing epoch 17\n",
      "Processing epoch 18\n",
      "Processing epoch 19\n",
      "Processing epoch 20\n",
      "Processing epoch 21\n",
      "Processing epoch 22\n",
      "Processing epoch 23\n",
      "Processing epoch 24\n",
      "Evaluating RMSE, MAE of algorithm SVD on 5 split(s).\n",
      "\n",
      "                  Fold 1  Fold 2  Fold 3  Fold 4  Fold 5  Mean    Std     \n",
      "RMSE (testset)    0.8597  0.8549  0.8545  0.8597  0.8683  0.8594  0.0050  \n",
      "MAE (testset)     0.6616  0.6565  0.6535  0.6582  0.6672  0.6594  0.0047  \n",
      "Fit time          5.86    5.58    5.63    5.56    5.50    5.63    0.13    \n",
      "Test time         0.58    0.26    0.28    0.24    0.13    0.30    0.15    \n",
      ">>training done\n"
     ]
    }
   ],
   "source": [
    "#will use cross validation - the k-fold way\n",
    "cross_validate(algo, data, measures=['RMSE', 'MAE'], cv=5, verbose=True)\n",
    "#verbose is uded to showon screen while training\n",
    "print(\">>training done\")"
   ]
  },
  {
   "cell_type": "markdown",
   "metadata": {
    "colab_type": "text",
    "id": "zTnqbNt_xkKS"
   },
   "source": [
    "# Task 7: Predictions"
   ]
  },
  {
   "cell_type": "markdown",
   "metadata": {
    "colab_type": "text",
    "id": "ma3oQr1Ax_Hg"
   },
   "source": [
    "## 7.1 Predict ratings for all pairs (user, items) that are NOT in the training set."
   ]
  },
  {
   "cell_type": "code",
   "execution_count": 38,
   "metadata": {
    "colab": {},
    "colab_type": "code",
    "id": "_K3EmIs3wxhW"
   },
   "outputs": [],
   "source": [
    "predictions = algo.test(antiset)"
   ]
  },
  {
   "cell_type": "code",
   "execution_count": 42,
   "metadata": {
    "colab": {},
    "colab_type": "code",
    "id": "RkqiEwM9z4Jf"
   },
   "outputs": [
    {
     "data": {
      "text/plain": [
       "Prediction(uid=1, iid=1704, r_ui=3.529119856267723, est=4.54715134607581, details={'was_impossible': False})"
      ]
     },
     "execution_count": 42,
     "metadata": {},
     "output_type": "execute_result"
    }
   ],
   "source": [
    "predictions[1] #r_ui - overall avg rating, est - predicted rating for this user"
   ]
  },
  {
   "cell_type": "markdown",
   "metadata": {
    "colab_type": "text",
    "id": "lRmzGn63ze8b"
   },
   "source": [
    "## Recommending top 3 movies movies based on predictions"
   ]
  },
  {
   "cell_type": "code",
   "execution_count": 43,
   "metadata": {
    "colab": {},
    "colab_type": "code",
    "id": "q3Ugauv0119g"
   },
   "outputs": [
    {
     "name": "stdout",
     "output_type": "stream",
     "text": [
      "1 [318, 908, 912]\n",
      "2 [898, 1262, 720]\n",
      "3 [109487, 81834, 2788]\n",
      "4 [720, 1262, 745]\n",
      "5 [2959, 858, 4973]\n",
      "6 [260, 2571, 4886]\n",
      "7 [318, 1283, 912]\n",
      "8 [5618, 898, 1223]\n",
      "9 [4973, 318, 3030]\n",
      "10 [5902, 3083, 31364]\n",
      "11 [1204, 527, 1262]\n",
      "12 [356, 527, 1258]\n",
      "13 [858, 296, 720]\n",
      "14 [1225, 1207, 2160]\n",
      "15 [1148, 720, 904]\n",
      "16 [1233, 2160, 56367]\n",
      "17 [1204, 898, 1242]\n",
      "18 [750, 720, 246]\n",
      "19 [527, 1233, 5747]\n",
      "20 [345, 1199, 1250]\n",
      "21 [14, 1204, 1028]\n",
      "22 [2571, 1210, 110]\n",
      "23 [1272, 1148, 720]\n",
      "24 [720, 260, 3451]\n",
      "25 [110, 356, 1617]\n",
      "26 [720, 741, 2924]\n",
      "27 [109487, 318, 81834]\n",
      "28 [3421, 111, 4886]\n",
      "29 [1225, 2858, 3030]\n",
      "30 [47, 2858, 720]\n",
      "31 [2959, 318, 1262]\n",
      "32 [1136, 720, 3030]\n",
      "33 [3147, 1225, 5618]\n",
      "34 [1262, 1193, 1225]\n",
      "35 [44195, 2959, 1204]\n",
      "36 [1148, 44555, 1193]\n",
      "37 [4226, 7361, 4878]\n",
      "38 [4011, 1250, 720]\n",
      "39 [898, 318, 4973]\n",
      "40 [1221, 1213, 608]\n",
      "41 [912, 74458, 6620]\n",
      "42 [7438, 720, 778]\n",
      "43 [50, 101, 260]\n",
      "44 [296, 1223, 3703]\n",
      "45 [80906, 1247, 527]\n",
      "46 [898, 1193, 2160]\n",
      "47 [908, 3451, 1262]\n",
      "48 [109487, 2028, 898]\n",
      "49 [5618, 1225, 4993]\n",
      "50 [1270, 1221, 720]\n",
      "51 [296, 6874, 79132]\n",
      "52 [1197, 2858, 2997]\n",
      "53 [1, 6, 47]\n",
      "54 [2571, 898, 1148]\n",
      "55 [5618, 541, 1237]\n",
      "56 [858, 750, 1198]\n",
      "57 [2959, 1214, 318]\n",
      "58 [1237, 899, 908]\n",
      "59 [908, 1104, 33166]\n",
      "60 [1223, 720, 260]\n",
      "61 [720, 2571, 38061]\n",
      "62 [1719, 1204, 930]\n",
      "63 [27611, 1230, 1673]\n",
      "64 [912, 541, 720]\n",
      "65 [3703, 720, 750]\n",
      "66 [858, 2160, 1199]\n",
      "67 [899, 720, 1237]\n",
      "68 [1953, 3451, 5747]\n",
      "69 [79132, 2959, 2858]\n",
      "70 [1617, 2329, 3030]\n",
      "71 [2959, 1237, 2160]\n",
      "72 [898, 1204, 3083]\n",
      "73 [1204, 2288, 908]\n",
      "74 [318, 720, 912]\n",
      "75 [58559, 5747, 4226]\n",
      "76 [81932, 527, 7361]\n",
      "77 [1262, 356, 741]\n",
      "78 [50, 5902, 2324]\n",
      "79 [912, 608, 527]\n",
      "80 [3703, 1223, 1237]\n",
      "81 [2959, 1196, 1203]\n",
      "82 [246, 1197, 1233]\n",
      "83 [2804, 3552, 898]\n",
      "84 [720, 913, 1204]\n",
      "85 [318, 44195, 858]\n",
      "86 [246, 912, 44195]\n",
      "87 [1204, 750, 1262]\n",
      "88 [908, 1204, 750]\n",
      "89 [50, 8949, 27611]\n",
      "90 [1204, 741, 1197]\n",
      "91 [6711, 1673, 3030]\n",
      "92 [527, 720, 1270]\n",
      "93 [1197, 1213, 3147]\n",
      "94 [741, 1197, 898]\n",
      "95 [318, 1204, 750]\n",
      "96 [1204, 750, 2324]\n",
      "97 [260, 1089, 1208]\n",
      "98 [899, 1200, 908]\n",
      "99 [3451, 1262, 1197]\n",
      "100 [318, 260, 1223]\n",
      "101 [720, 2324, 1213]\n",
      "102 [7361, 3147, 50]\n",
      "103 [1172, 720, 1262]\n",
      "104 [898, 3083, 1077]\n",
      "105 [720, 2160, 1197]\n",
      "106 [1197, 720, 899]\n",
      "107 [1213, 912, 3030]\n",
      "108 [912, 720, 58]\n",
      "109 [1237, 44555, 2959]\n",
      "110 [720, 48516, 475]\n",
      "111 [293, 1203, 1]\n",
      "112 [1199, 750, 720]\n",
      "113 [68358, 58559, 866]\n",
      "114 [4973, 296, 4226]\n",
      "115 [1228, 1270, 1136]\n",
      "116 [1197, 318, 3552]\n",
      "117 [260, 1673, 898]\n",
      "118 [720, 1210, 2571]\n",
      "119 [44195, 175, 1210]\n",
      "120 [1276, 2324, 1089]\n",
      "121 [1237, 44555, 908]\n",
      "122 [527, 1198, 1617]\n",
      "123 [50, 1225, 1237]\n",
      "124 [720, 1217, 2324]\n",
      "125 [3037, 720, 741]\n",
      "126 [908, 260, 6016]\n",
      "127 [2858, 318, 1283]\n",
      "128 [1223, 318, 720]\n",
      "129 [318, 109487, 1204]\n",
      "130 [1262, 720, 2160]\n",
      "131 [720, 898, 4973]\n",
      "132 [1225, 1148, 1387]\n",
      "133 [2324, 2028, 720]\n",
      "134 [1242, 1204, 1270]\n",
      "135 [541, 720, 778]\n",
      "136 [2571, 2968, 7153]\n",
      "137 [2324, 4226, 741]\n",
      "138 [1196, 1237, 778]\n",
      "139 [318, 57669, 908]\n",
      "140 [1207, 1208, 720]\n",
      "141 [898, 3468, 3083]\n",
      "142 [318, 2858, 1237]\n",
      "143 [1387, 1293, 3504]\n",
      "144 [260, 246, 2324]\n",
      "145 [48516, 2329, 1201]\n",
      "146 [318, 720, 1204]\n",
      "147 [4973, 7361, 1217]\n",
      "148 [296, 1204, 898]\n",
      "149 [951, 2324, 5618]\n",
      "150 [2571, 720, 898]\n",
      "151 [750, 1247, 246]\n",
      "152 [109487, 898, 66934]\n",
      "153 [608, 924, 933]\n",
      "154 [2959, 720, 58]\n",
      "155 [318, 1237, 1242]\n",
      "156 [1200, 2160, 1104]\n",
      "157 [296, 1204, 720]\n",
      "158 [318, 1204, 1223]\n",
      "159 [3000, 4973, 898]\n",
      "160 [1136, 923, 1732]\n",
      "161 [1262, 5618, 912]\n",
      "162 [7361, 778, 1204]\n",
      "163 [318, 1223, 2959]\n",
      "164 [2542, 912, 898]\n",
      "165 [1204, 246, 50]\n",
      "166 [1288, 246, 1204]\n",
      "167 [55820, 4973, 38061]\n",
      "168 [50, 1223, 866]\n",
      "169 [48516, 898, 1267]\n",
      "170 [7153, 1197, 858]\n",
      "171 [1206, 2571, 2959]\n",
      "172 [4993, 4226, 5690]\n",
      "173 [47, 2571, 1262]\n",
      "174 [44195, 1262, 912]\n",
      "175 [5618, 1237, 356]\n",
      "176 [1394, 858, 27611]\n",
      "177 [293, 908, 1208]\n",
      "178 [750, 1242, 1204]\n",
      "179 [904, 58559, 7438]\n",
      "180 [318, 1204, 898]\n",
      "181 [899, 1193, 318]\n",
      "182 [1250, 54503, 30707]\n",
      "183 [260, 318, 3578]\n",
      "184 [1204, 318, 1203]\n",
      "185 [1197, 908, 720]\n",
      "186 [1223, 2160, 5902]\n",
      "187 [4973, 1248, 1287]\n",
      "188 [1197, 109487, 912]\n",
      "189 [5618, 4973, 7361]\n",
      "190 [912, 720, 898]\n",
      "191 [1200, 3949, 4973]\n",
      "192 [4973, 1283, 1235]\n",
      "193 [94959, 1704, 1387]\n",
      "194 [318, 1204, 246]\n",
      "195 [2542, 1237, 3030]\n",
      "196 [720, 1288, 912]\n",
      "197 [898, 720, 1237]\n",
      "198 [1223, 1204, 2194]\n",
      "199 [1247, 720, 741]\n",
      "200 [293, 1201, 3275]\n",
      "201 [919, 720, 318]\n",
      "202 [527, 2804, 898]\n",
      "203 [858, 1242, 2324]\n",
      "204 [904, 2788, 5618]\n",
      "205 [48516, 720, 908]\n",
      "206 [1204, 1262, 318]\n",
      "207 [318, 858, 908]\n",
      "208 [1237, 720, 79132]\n",
      "209 [1193, 1262, 3213]\n",
      "210 [38061, 246, 1262]\n",
      "211 [741, 1201, 1237]\n",
      "212 [2329, 912, 898]\n",
      "213 [318, 720, 527]\n",
      "214 [1198, 2324, 318]\n",
      "215 [1193, 858, 750]\n",
      "216 [318, 296, 2160]\n",
      "217 [1237, 1193, 1223]\n",
      "218 [318, 2788, 898]\n",
      "219 [527, 750, 2324]\n",
      "220 [1283, 63082, 1272]\n",
      "221 [3468, 2160, 3083]\n",
      "222 [1148, 1136, 246]\n",
      "223 [57669, 933, 1203]\n",
      "224 [1262, 898, 904]\n",
      "225 [912, 318, 1237]\n",
      "226 [38061, 2028, 1617]\n",
      "227 [1237, 3681, 933]\n",
      "228 [2324, 44195, 2858]\n",
      "229 [1204, 908, 50]\n",
      "230 [5418, 3421, 866]\n",
      "231 [318, 1283, 246]\n",
      "232 [4011, 908, 1221]\n",
      "233 [1148, 1221, 1228]\n",
      "234 [1953, 898, 1204]\n",
      "235 [741, 2571, 922]\n",
      "236 [318, 109487, 1221]\n",
      "237 [750, 741, 1237]\n",
      "238 [1237, 2160, 48516]\n",
      "239 [246, 908, 1237]\n",
      "240 [1198, 2571, 2959]\n",
      "241 [5618, 58, 1270]\n",
      "242 [1249, 5618, 2571]\n",
      "243 [50, 296, 2571]\n",
      "244 [1148, 904, 3275]\n",
      "245 [318, 260, 1270]\n",
      "246 [912, 109487, 1262]\n",
      "247 [1204, 1237, 1357]\n",
      "248 [318, 57669, 2324]\n",
      "249 [741, 720, 1237]\n",
      "250 [4973, 908, 2959]\n",
      "251 [1198, 48516, 898]\n",
      "252 [912, 1148, 1204]\n",
      "253 [260, 1089, 1214]\n",
      "254 [2324, 750, 1206]\n",
      "255 [1148, 1197, 1258]\n",
      "256 [1197, 720, 1237]\n",
      "257 [318, 2959, 1237]\n",
      "258 [1204, 1242, 3030]\n",
      "259 [3037, 110, 1247]\n",
      "260 [858, 318, 1136]\n",
      "261 [3030, 260, 608]\n",
      "262 [720, 38061, 4973]\n",
      "263 [898, 951, 1221]\n",
      "264 [4226, 74458, 3000]\n",
      "265 [1210, 898, 1673]\n",
      "266 [858, 4878, 7361]\n",
      "267 [720, 741, 1245]\n",
      "268 [1250, 1387, 4973]\n",
      "269 [1200, 3114, 1234]\n",
      "270 [260, 1204, 1210]\n",
      "271 [1221, 246, 720]\n",
      "272 [720, 2959, 1204]\n",
      "273 [4973, 1148, 1225]\n",
      "274 [57669, 951, 1673]\n",
      "275 [110, 109487, 119145]\n",
      "276 [110, 296, 441]\n",
      "277 [296, 4226, 1204]\n",
      "278 [898, 2160, 1203]\n",
      "279 [4973, 720, 898]\n",
      "280 [5952, 3703, 260]\n",
      "281 [1204, 296, 119145]\n",
      "282 [898, 904, 908]\n",
      "283 [527, 908, 898]\n",
      "284 [1197, 3508, 898]\n",
      "285 [318, 720, 910]\n",
      "286 [1204, 6016, 741]\n",
      "287 [1221, 3000, 1204]\n",
      "288 [858, 3328, 1221]\n",
      "289 [1204, 1262, 858]\n",
      "290 [356, 720, 1207]\n",
      "291 [1262, 1210, 1704]\n",
      "292 [1242, 2924, 34405]\n",
      "293 [2858, 1262, 3275]\n",
      "294 [318, 5747, 34405]\n",
      "295 [904, 1262, 260]\n",
      "296 [912, 1262, 720]\n",
      "297 [1221, 318, 858]\n",
      "298 [3740, 2968, 5747]\n",
      "299 [50, 1250, 4878]\n",
      "300 [720, 3030, 858]\n",
      "301 [1258, 5618, 6807]\n",
      "302 [4973, 750, 1204]\n",
      "303 [750, 541, 1204]\n",
      "304 [4993, 858, 50]\n",
      "305 [1719, 1148, 720]\n",
      "306 [912, 1148, 720]\n",
      "307 [1262, 750, 1276]\n",
      "308 [1262, 88125, 3213]\n",
      "309 [48516, 246, 5690]\n",
      "310 [296, 953, 541]\n",
      "311 [1136, 318, 914]\n",
      "312 [318, 296, 1270]\n",
      "313 [6350, 8254, 2788]\n",
      "314 [904, 1233, 1210]\n",
      "315 [1673, 866, 1193]\n",
      "316 [296, 318, 898]\n",
      "317 [1719, 1136, 5618]\n",
      "318 [1204, 1148, 912]\n",
      "319 [1204, 1387, 44195]\n",
      "320 [318, 898, 541]\n",
      "321 [475, 2160, 2571]\n",
      "322 [1148, 112552, 7438]\n",
      "323 [1204, 904, 1148]\n",
      "324 [318, 7361, 1704]\n",
      "325 [912, 5618, 1204]\n",
      "326 [745, 2502, 1261]\n",
      "327 [1237, 866, 1293]\n",
      "328 [3703, 1242, 1204]\n",
      "329 [912, 3451, 36]\n",
      "330 [5618, 1921, 122918]\n",
      "331 [1221, 1208, 1250]\n",
      "332 [5995, 260, 2502]\n",
      "333 [750, 741, 260]\n",
      "334 [1262, 3030, 898]\n",
      "335 [2858, 4973, 1221]\n",
      "336 [908, 951, 44195]\n",
      "337 [457, 527, 2542]\n",
      "338 [912, 1270, 260]\n",
      "339 [1200, 1148, 899]\n",
      "340 [1237, 246, 2571]\n",
      "341 [1204, 720, 293]\n",
      "342 [1172, 5618, 750]\n",
      "343 [58559, 26662, 3030]\n",
      "344 [2788, 3451, 1242]\n",
      "345 [750, 1233, 5618]\n",
      "346 [4226, 741, 2571]\n",
      "347 [293, 1237, 1204]\n",
      "348 [356, 720, 1200]\n",
      "349 [475, 110, 1172]\n",
      "350 [2329, 4973, 1204]\n",
      "351 [50, 1197, 2329]\n",
      "352 [858, 1104, 908]\n",
      "353 [1203, 1197, 2959]\n",
      "354 [912, 1197, 720]\n",
      "355 [898, 1237, 2571]\n",
      "356 [260, 1213, 1242]\n",
      "357 [1237, 1233, 475]\n",
      "358 [4973, 912, 898]\n",
      "359 [50, 899, 951]\n",
      "360 [2858, 318, 750]\n",
      "361 [2542, 5747, 175]\n",
      "362 [720, 57669, 912]\n",
      "363 [898, 356, 1242]\n",
      "364 [50, 296, 318]\n",
      "365 [1270, 1203, 1172]\n",
      "366 [318, 1148, 3030]\n",
      "367 [88125, 1357, 246]\n",
      "368 [318, 720, 1270]\n",
      "369 [27773, 48516, 3030]\n",
      "370 [898, 912, 1237]\n",
      "371 [356, 1704, 58559]\n",
      "372 [44195, 2028, 951]\n",
      "373 [1221, 750, 1276]\n",
      "374 [2858, 1204, 750]\n",
      "375 [593, 7438, 908]\n",
      "376 [3508, 933, 293]\n",
      "377 [1204, 318, 260]\n",
      "378 [1204, 1200, 741]\n",
      "379 [260, 908, 951]\n",
      "380 [1411, 2858, 1287]\n",
      "381 [106642, 898, 3468]\n",
      "382 [2858, 745, 1262]\n",
      "383 [951, 1204, 246]\n",
      "384 [318, 2858, 1221]\n",
      "385 [1148, 1193, 527]\n",
      "386 [5952, 4993, 1267]\n",
      "387 [7153, 6711, 720]\n",
      "388 [1204, 1293, 2959]\n",
      "389 [527, 1222, 1258]\n",
      "390 [296, 1248, 47]\n",
      "391 [5618, 720, 2804]\n",
      "392 [898, 50, 1204]\n",
      "393 [33166, 3030, 1242]\n",
      "394 [1200, 246, 2324]\n",
      "395 [1242, 1673, 5418]\n",
      "396 [1204, 527, 356]\n",
      "397 [720, 318, 356]\n",
      "398 [33166, 1212, 741]\n",
      "399 [318, 246, 1387]\n",
      "400 [720, 1204, 1262]\n",
      "401 [2959, 720, 1262]\n",
      "402 [898, 2571, 1237]\n",
      "403 [1204, 527, 1208]\n",
      "404 [720, 4973, 898]\n",
      "405 [898, 1204, 778]\n",
      "406 [4226, 1204, 2324]\n",
      "407 [296, 318, 4226]\n",
      "408 [4973, 912, 5902]\n",
      "409 [720, 1104, 2959]\n",
      "410 [56367, 246, 1148]\n",
      "411 [2571, 4886, 1249]\n",
      "412 [318, 912, 527]\n",
      "413 [50, 1196, 2542]\n",
      "414 [3030, 1203, 3741]\n",
      "415 [1089, 527, 1248]\n",
      "416 [2329, 912, 2324]\n",
      "417 [527, 2160, 50]\n",
      "418 [1221, 720, 858]\n",
      "419 [720, 2324, 91529]\n",
      "420 [912, 1262, 908]\n",
      "421 [50, 1204, 1221]\n",
      "422 [527, 1148, 1198]\n",
      "423 [858, 1204, 527]\n",
      "424 [1199, 1250, 1204]\n",
      "425 [898, 1237, 109487]\n",
      "426 [1262, 899, 953]\n",
      "427 [318, 1204, 1262]\n",
      "428 [858, 5618, 2324]\n",
      "429 [50, 593, 608]\n",
      "430 [1197, 933, 2542]\n",
      "431 [318, 527, 912]\n",
      "432 [1237, 3000, 899]\n",
      "433 [1204, 2324, 1148]\n",
      "434 [720, 1276, 2324]\n",
      "435 [912, 898, 778]\n",
      "436 [912, 858, 1262]\n",
      "437 [720, 4973, 7361]\n",
      "438 [1261, 908, 1244]\n",
      "439 [2858, 1204, 4973]\n",
      "440 [318, 908, 1357]\n",
      "441 [50, 1197, 898]\n",
      "442 [7361, 750, 50]\n",
      "443 [4973, 527, 1242]\n",
      "444 [246, 2571, 899]\n",
      "445 [318, 858, 951]\n",
      "446 [260, 1221, 318]\n",
      "447 [898, 912, 3030]\n",
      "448 [318, 2329, 527]\n",
      "449 [79132, 2571, 1197]\n",
      "450 [1204, 741, 2571]\n",
      "451 [1197, 3030, 3468]\n",
      "452 [50, 101, 593]\n",
      "453 [3213, 246, 58]\n",
      "454 [318, 247, 1204]\n",
      "455 [260, 4993, 5618]\n",
      "456 [912, 741, 3030]\n",
      "457 [4993, 1203, 2329]\n",
      "458 [260, 2324, 1204]\n",
      "459 [1283, 1204, 930]\n",
      "460 [1203, 912, 720]\n",
      "461 [2160, 50, 1262]\n",
      "462 [7147, 2731, 46976]\n",
      "463 [741, 38061, 1673]\n",
      "464 [50, 457, 1203]\n",
      "465 [3201, 720, 741]\n",
      "466 [1262, 296, 1148]\n",
      "467 [318, 2788, 2160]\n",
      "468 [858, 898, 1198]\n",
      "469 [2959, 1246, 953]\n",
      "470 [2571, 1262, 1237]\n",
      "471 [318, 48516, 720]\n",
      "472 [1250, 296, 912]\n",
      "473 [47, 1204, 1262]\n",
      "474 [51255, 27156, 2360]\n",
      "475 [356, 1197, 1278]\n",
      "476 [1197, 745, 58559]\n",
      "477 [858, 50, 1206]\n",
      "478 [50, 2028, 1237]\n",
      "479 [608, 1136, 720]\n",
      "480 [1262, 58, 82459]\n",
      "481 [1197, 720, 3703]\n",
      "482 [1172, 56367, 307]\n",
      "483 [1258, 1261, 3030]\n",
      "484 [1198, 260, 1246]\n",
      "485 [318, 904, 527]\n",
      "486 [912, 904, 1210]\n",
      "487 [608, 720, 1148]\n",
      "488 [928, 951, 260]\n",
      "489 [527, 720, 3037]\n",
      "490 [750, 527, 1221]\n",
      "491 [1270, 318, 741]\n",
      "492 [50, 2542, 2571]\n",
      "493 [1148, 953, 741]\n",
      "494 [541, 50, 318]\n",
      "495 [6, 1206, 1210]\n",
      "496 [1262, 4226, 1204]\n",
      "497 [1197, 296, 1204]\n",
      "498 [1148, 1262, 1193]\n",
      "499 [50, 318, 3671]\n",
      "500 [2959, 1206, 50]\n",
      "501 [1207, 3451, 720]\n",
      "502 [50, 32, 2160]\n",
      "503 [1204, 3275, 912]\n",
      "504 [750, 898, 2324]\n",
      "505 [1223, 3030, 720]\n",
      "506 [1262, 1270, 1197]\n",
      "507 [1204, 6711, 720]\n",
      "508 [260, 318, 720]\n",
      "509 [4226, 246, 47]\n",
      "510 [318, 2858, 260]\n",
      "511 [720, 912, 3275]\n",
      "512 [2959, 260, 246]\n",
      "513 [1204, 1262, 527]\n",
      "514 [318, 527, 858]\n",
      "515 [296, 1197, 1198]\n",
      "516 [50, 1204, 47]\n",
      "517 [56367, 1178, 1387]\n",
      "518 [720, 912, 2858]\n",
      "519 [741, 3451, 5690]\n",
      "520 [720, 26662, 3504]\n",
      "521 [720, 912, 1262]\n",
      "522 [1080, 1252, 1954]\n",
      "523 [6, 296, 1136]\n",
      "524 [741, 953, 4973]\n",
      "525 [904, 1237, 1204]\n",
      "526 [527, 260, 1204]\n",
      "527 [81834, 1262, 951]\n",
      "528 [908, 50, 7361]\n",
      "529 [2571, 318, 1203]\n",
      "530 [720, 1237, 778]\n",
      "531 [912, 898, 1262]\n",
      "532 [260, 1204, 1223]\n",
      "533 [527, 1262, 50]\n",
      "534 [1204, 898, 1237]\n",
      "535 [1193, 1673, 1204]\n",
      "536 [908, 260, 1210]\n",
      "537 [1197, 356, 2324]\n",
      "538 [593, 44555, 3030]\n",
      "539 [48516, 908, 720]\n",
      "540 [318, 246, 904]\n",
      "541 [527, 260, 1262]\n",
      "542 [1198, 260, 750]\n",
      "543 [58559, 898, 908]\n",
      "544 [318, 898, 1207]\n",
      "545 [898, 5690, 50]\n",
      "546 [260, 99114, 47]\n",
      "547 [1262, 720, 2160]\n",
      "548 [296, 527, 318]\n",
      "549 [3213, 5690, 898]\n",
      "550 [7361, 1293, 1204]\n",
      "551 [720, 898, 3421]\n",
      "552 [858, 1210, 318]\n",
      "553 [1197, 246, 6711]\n",
      "554 [260, 296, 3451]\n",
      "555 [7361, 903, 1079]\n",
      "556 [1203, 2959, 1270]\n",
      "557 [898, 1673, 1262]\n",
      "558 [908, 2788, 951]\n",
      "559 [2324, 1250, 58559]\n",
      "560 [1204, 246, 3030]\n",
      "561 [741, 908, 745]\n",
      "562 [56782, 3030, 898]\n",
      "563 [246, 4226, 1204]\n",
      "564 [246, 1222, 1172]\n",
      "565 [1242, 4973, 858]\n",
      "566 [858, 1262, 1221]\n",
      "567 [55820, 4973, 1193]\n",
      "568 [1233, 318, 1719]\n",
      "569 [1204, 260, 1250]\n",
      "570 [296, 50, 2761]\n",
      "571 [2959, 908, 112852]\n",
      "572 [7361, 58559, 3328]\n",
      "573 [2288, 1719, 4973]\n",
      "574 [858, 1204, 2324]\n",
      "575 [2324, 1204, 8949]\n",
      "576 [318, 750, 1213]\n",
      "577 [1223, 44555, 112552]\n",
      "578 [356, 720, 750]\n",
      "579 [1204, 608, 318]\n",
      "580 [3359, 1261, 109487]\n",
      "581 [50, 1089, 593]\n",
      "582 [1204, 898, 858]\n",
      "583 [741, 246, 1237]\n",
      "584 [260, 318, 4034]\n",
      "585 [318, 1262, 1204]\n",
      "586 [898, 930, 866]\n",
      "587 [318, 1237, 750]\n",
      "588 [720, 2571, 1283]\n",
      "589 [720, 1262, 260]\n",
      "590 [720, 741, 745]\n",
      "591 [2324, 50, 1204]\n",
      "592 [1204, 778, 105504]\n",
      "593 [1204, 720, 750]\n",
      "594 [362, 3147, 80906]\n",
      "595 [318, 27611, 912]\n",
      "596 [720, 741, 1233]\n",
      "597 [296, 527, 2997]\n",
      "598 [912, 720, 7438]\n",
      "599 [527, 3508, 1203]\n",
      "600 [1719, 745, 1262]\n",
      "601 [750, 593, 4973]\n",
      "602 [951, 2959, 750]\n",
      "603 [58559, 1276, 1272]\n",
      "604 [318, 246, 260]\n",
      "605 [318, 48516, 916]\n",
      "606 [3949, 1228, 94959]\n",
      "607 [1237, 2959, 5418]\n",
      "608 [1912, 5995, 161582]\n",
      "609 [1262, 4973, 1237]\n",
      "610 [3030, 1203, 720]\n"
     ]
    }
   ],
   "source": [
    "from collections import defaultdict\n",
    "\n",
    "def get_top_n(predictions, n):\n",
    "    top_n = defaultdict(list) \n",
    "    for uid, iid, _, est, _ in predictions: #_ means we don't care about them\n",
    "        top_n[uid].append((iid, est))\n",
    "        \n",
    "    for uid, user_ratings in top_n.items():\n",
    "        user_ratings.sort(key = lambda x: x[1], reverse=True) #x - iid, x[1] - est(estimated- predicted ratings)\n",
    "        #sort fxn is ascending by default\n",
    "        top_n[uid] = user_ratings[:n]\n",
    "    return top_n\n",
    "    pass\n",
    "\n",
    "\n",
    "top_n = get_top_n(predictions, n=3) #printing top3 recommendations\n",
    "for uid, user_ratings in top_n.items():\n",
    "    print(uid, [iid for (iid, rating) in user_ratings])"
   ]
  }
 ],
 "metadata": {
  "kernelspec": {
   "display_name": "Python 3",
   "language": "python",
   "name": "python3"
  },
  "language_info": {
   "codemirror_mode": {
    "name": "ipython",
    "version": 3
   },
   "file_extension": ".py",
   "mimetype": "text/x-python",
   "name": "python",
   "nbconvert_exporter": "python",
   "pygments_lexer": "ipython3",
   "version": "3.7.6"
  }
 },
 "nbformat": 4,
 "nbformat_minor": 4
}
